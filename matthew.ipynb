{
 "cells": [
  {
   "cell_type": "code",
   "execution_count": null,
   "metadata": {},
   "outputs": [],
   "source": [
    "import pandas as pd"
   ]
  },
  {
   "cell_type": "code",
   "execution_count": 5,
   "metadata": {},
   "outputs": [],
   "source": [
    "df = pd.read_csv(\"../FARS_GESCRSS_Sample_2001-2020.csv\", low_memory= False)"
   ]
  },
  {
   "cell_type": "code",
   "execution_count": null,
   "metadata": {},
   "outputs": [],
   "source": [
    "keep_cols = ['ST_CASE', 'VEH_NO', 'PER_NO', 'AGE', 'GENDER', 'YEAR', 'PER_TYP', 'INJ_SEV', 'DRINKING', 'DRUGS', 'NUMOCCS', 'MAKE', 'MODEL',\n",
    "             'MOD_YEAR', 'HIT_RUN', 'BODY_TYP', 'DEFORMED', 'SPEEDREL', 'HARM_EV', 'HOUR', 'WEATHER',]"
   ]
  },
  {
   "cell_type": "code",
   "execution_count": 11,
   "metadata": {},
   "outputs": [
    {
     "data": {
      "text/plain": [
       "ST_CASE        0.000000\n",
       "VEH_NO         0.000000\n",
       "PER_NO         0.000000\n",
       "AGE            5.199619\n",
       "GENDER         2.965166\n",
       "YEAR           0.000000\n",
       "SOURCE         0.000000\n",
       "PER_TYP        0.000000\n",
       "INJ_SEV        1.991197\n",
       "DRINKING       0.000000\n",
       "DRUGS          0.000000\n",
       "NUMOCCS        4.667513\n",
       "MAKE           3.635950\n",
       "MODEL         36.651574\n",
       "MOD_YEAR       4.080151\n",
       "HIT_RUN        2.555193\n",
       "BODY_TYP       2.972239\n",
       "DEFORMED      20.632704\n",
       "SPEC_USE       3.304789\n",
       "TRAV_SP       55.305711\n",
       "DR_ZIP         5.403721\n",
       "SPEEDREL       0.000000\n",
       "DR_SF1        40.762352\n",
       "HARM_EV        0.031702\n",
       "HOUR           0.290176\n",
       "WEATHER        1.641785\n",
       "STRATUM       34.477177\n",
       "REGION        34.477177\n",
       "PSU           34.477177\n",
       "PJ            34.477177\n",
       "WEIGHT         0.000000\n",
       "NUM_VEH        0.000000\n",
       "MAX_SEV       34.477177\n",
       "MAKEMODEL     36.651574\n",
       "COUNTYNAME    37.949505\n",
       "STATENAME      3.472327\n",
       "SEG           34.073772\n",
       "MARITAL        9.773795\n",
       "POP2018        6.444440\n",
       "RACE           8.192066\n",
       "PREV           9.779984\n",
       "DR_DRINK      67.512441\n",
       "CDL_STAT      67.528039\n",
       "PREV_ACC      70.406057\n",
       "PREV_SUS      68.309778\n",
       "PREV_DWI      68.317230\n",
       "PREV_SPD      68.317230\n",
       "COUNTY        65.522823\n",
       "ZCTA          66.833321\n",
       "dtype: float64"
      ]
     },
     "execution_count": 11,
     "metadata": {},
     "output_type": "execute_result"
    }
   ],
   "source": [
    "df.isna().sum(axis = 0) / df.shape[0] * 100"
   ]
  },
  {
   "cell_type": "code",
   "execution_count": 12,
   "metadata": {},
   "outputs": [
    {
     "data": {
      "text/plain": [
       "Index(['ST_CASE', 'VEH_NO', 'PER_NO', 'AGE', 'GENDER', 'YEAR', 'SOURCE',\n",
       "       'PER_TYP', 'INJ_SEV', 'DRINKING', 'DRUGS', 'NUMOCCS', 'MAKE', 'MODEL',\n",
       "       'MOD_YEAR', 'HIT_RUN', 'BODY_TYP', 'DEFORMED', 'SPEC_USE', 'TRAV_SP',\n",
       "       'DR_ZIP', 'SPEEDREL', 'DR_SF1', 'HARM_EV', 'HOUR', 'WEATHER', 'STRATUM',\n",
       "       'REGION', 'PSU', 'PJ', 'WEIGHT', 'NUM_VEH', 'MAX_SEV', 'MAKEMODEL',\n",
       "       'COUNTYNAME', 'STATENAME', 'SEG', 'MARITAL', 'POP2018', 'RACE', 'PREV',\n",
       "       'DR_DRINK', 'CDL_STAT', 'PREV_ACC', 'PREV_SUS', 'PREV_DWI', 'PREV_SPD',\n",
       "       'COUNTY', 'ZCTA'],\n",
       "      dtype='object')"
      ]
     },
     "execution_count": 12,
     "metadata": {},
     "output_type": "execute_result"
    }
   ],
   "source": [
    "df.columns"
   ]
  },
  {
   "cell_type": "code",
   "execution_count": null,
   "metadata": {},
   "outputs": [],
   "source": []
  }
 ],
 "metadata": {
  "kernelspec": {
   "display_name": "dsc190",
   "language": "python",
   "name": "python3"
  },
  "language_info": {
   "codemirror_mode": {
    "name": "ipython",
    "version": 3
   },
   "file_extension": ".py",
   "mimetype": "text/x-python",
   "name": "python",
   "nbconvert_exporter": "python",
   "pygments_lexer": "ipython3",
   "version": "3.11.9"
  }
 },
 "nbformat": 4,
 "nbformat_minor": 2
}
