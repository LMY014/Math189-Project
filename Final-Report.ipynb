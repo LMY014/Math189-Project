{
 "cells": [
  {
   "cell_type": "code",
   "execution_count": 23,
   "id": "1f7f84b1",
   "metadata": {},
   "outputs": [],
   "source": [
    "import pandas as pd\n",
    "from PIL import Image\n",
    "from IPython.display import display\n",
    "import matplotlib.pyplot as plt\n",
    "import matplotlib.image as mpimg"
   ]
  },
  {
   "cell_type": "markdown",
   "id": "56083355",
   "metadata": {},
   "source": [
    "# Exploring Factors Contributing to Severity of US Motor Vehicle Accidents\n"
   ]
  },
  {
   "cell_type": "markdown",
   "id": "00406c30",
   "metadata": {},
   "source": [
    "### Group Members\n",
    "* Arshia Vadhani\n",
    "* Matthew Jacobsen\n",
    "* Laura Diaz Rodriguez\n",
    "* Meiyan Liu"
   ]
  },
  {
   "cell_type": "markdown",
   "id": "9b2fdd77",
   "metadata": {},
   "source": [
    "# Introduction:\n",
    "Car accidents remain a leading cause of accidental death worldwide, with various countries permitting individuals as young as 15 to operate vehicles. Numerous factors contribute to the occurrence of car accidents, including but not limited to weather conditions, visibility, vehicle speed, vehicle type, alcohol consumption, drug use, and driver distraction. With the legalization of recreational drugs, increasing alcohol consumption in social settings, and the growing mobile phone use among younger populations, the frequency of car accidents is expected to rise. The consequences of these incidents can vary significantly, ranging from minor injuries to fatalities. This project aims to investigate the key factors contributing to car accidents that can ultimately lead to the development of strategies targeted at keeping people safe."
   ]
  },
  {
   "cell_type": "markdown",
   "id": "c1cb747e",
   "metadata": {},
   "source": [
    "# Problem Statement\n",
    "Car accidents are a major global public safety concern, with numerous contributing factors. However, the specific factors that lead to fatal accidents are not as widely understood. This study aims to identify the key contributing factors via correlation to both general car accidents and fatal accidents in particular. By examining possible conducive variables, we seek to better understand the dynamics of these incidents by providing data-driven insights on the average weight of each factor on accident severity.\n"
   ]
  },
  {
   "cell_type": "markdown",
   "id": "66d36dc6",
   "metadata": {},
   "source": [
    "# Relevancy & Inspiration\n",
    "The relevance of this problem lies in the persistent and growing nature of car accidents, which continue to pose significant risks to public safety worldwide. With an increasing number of variables influencing these incidents, understanding the root causes of fatal accidents is crucial to mitigating their impact. With the increasing population of drivers, it is essential to prioritize the education of safe driving practices. The most effective way to achieve this is by identifying the key elements that contribute to these dangerous, often fatal, crashes. Research indicates that nearly 77% of the American population has been involved in a motor vehicle accident at some point in their lives. This statistic inspired us to pursue solutions aimed at reducing this number by promoting safer driving behaviors. By identifying the specific factors most strongly linked to car accidents, we aim to gain a clearer understanding of how to prevent them, ultimately contributing to improved road safety."
   ]
  },
  {
   "cell_type": "markdown",
   "id": "53f3f2ce",
   "metadata": {},
   "source": [
    "# Data Source"
   ]
  },
  {
   "cell_type": "markdown",
   "id": "0c45c566",
   "metadata": {},
   "source": [
    "- Where did our data come from\n",
    "- Is it a representative sample of US car accidents\n",
    "- How is the data set organized (grouped by ST_CASE, VEH_NO, PER_NO)\n"
   ]
  },
  {
   "cell_type": "markdown",
   "id": "efea7bb5",
   "metadata": {},
   "source": [
    "# Variable Descriptions"
   ]
  },
  {
   "cell_type": "markdown",
   "id": "9e93614c",
   "metadata": {},
   "source": [
    "1. **ST_CASE**: A unique case identifier assigned to each crash record in the dataset. This variable helps distinguish individual incidents.\n",
    "\n",
    "2. VEH_NO: The vehicle number in a given crash case. It is used to identify and differentiate multiple vehicles involved in the same crash.\n",
    "\n",
    "3. PER_NO: The person number assigned to each individual in a crash. This variable is useful for identifying specific individuals within a case.\n",
    "\n",
    "4. AGE: The age of the individual involved in the crash, recorded as a discrete variable ranging from 0 to 97. Individuals aged 97 or older are coded as 97 due to historical data recording practices.\n",
    "\n",
    "5. GENDER: The gender of the individual involved in the crash. It is coded as:\n",
    "\n",
    "    1 = Male\n",
    "\n",
    "    2 = Female\n",
    "\n",
    "6. YEAR: The year in which the crash occurred. This variable is essential for temporal analysis and trend evaluation.\n",
    "\n",
    "7.  PER_TYP: The role of the individual in the crash, categorized as:\n",
    "\n",
    "    1 = Driver\n",
    "\n",
    "    2 = Passenger\n",
    "\n",
    "    3 = Stationary non-occupant (SNO) (e.g., someone standing in a building, using a wheelchair, or engaging in recreational activities)\n",
    "\n",
    "    5 = Pedestrians\n",
    "\n",
    "    6 = Pedalcyclists\n",
    "\n",
    "8. INJ_SEV: The severity of the individual's injury in the crash, categorized as:\n",
    "\n",
    "    0 = No Injury\n",
    "\n",
    "    1 = Possible Injury\n",
    "\n",
    "    2 = Minor Injury\n",
    "\n",
    "    3 = Serious Injury\n",
    "\n",
    "    4 = Fatal Injury Historical codes with unknown injury severity were reassigned probabilistically to categories 1, 2, and 3.\n",
    "\n",
    "9. DRINKING: Indicates whether the individual was recorded as having consumed alcohol at the time of the crash:\n",
    "\n",
    "    0 = No\n",
    "\n",
    "    1 = Yes The coding for this variable differed in the GES dataset for the years 2001-2008.\n",
    "\n",
    "10. DRUGS: Records whether the individual was under the influence of drugs at the time of the crash:\n",
    "\n",
    "    0 = No\n",
    "\n",
    "    1 = Yes Similar to the drinking variable, the coding for this variable was different in the GES dataset for the years 2001-2008.\n",
    "\n",
    "11. NUMOCCS: The number of occupants in the vehicle.\n",
    "\n",
    "    Ranges from 1 to 80.\n",
    "\n",
    "12. MAKE: The discrete category for the vehicle’s make (manufacturer).\n",
    "\n",
    "    Ranges from 1 to 98.\n",
    "\n",
    "    Coding has been standardized since 1988 for GES/CRSS and 1991 for FARS.\n",
    "\n",
    "    Some specific codes (e.g., code 77 for Victory) were omitted in GES/CRSS but are still present in some records.\n",
    "\n",
    "13. MOD_YEAR: The model year of the vehicle.\n",
    "\n",
    "    Ranges from 1900 to 2021.\n",
    "\n",
    "14. HIT_RUN: Indicates whether the crash was a hit-and-run.\n",
    "\n",
    "    0 = No\n",
    "\n",
    "    1 = Yes\n",
    "\n",
    "    Different hit-and-run categories in FARS were grouped under the \"Yes\" classification.\n",
    "\n",
    "15. BODY_TYP: Classification of the vehicle based on shape, size, and doors.\n",
    "\n",
    "    1 = Convertible\n",
    "\n",
    "    2 = 2-door sedan\n",
    "\n",
    "    3 = (2,3)-door hatchback\n",
    "\n",
    "    4 = 4-door sedan\n",
    "\n",
    "    5 = (4,5)-door hatchback\n",
    "\n",
    "    6 = Station wagon\n",
    "\n",
    "    7 = Hatchback (unknown door number)\n",
    "\n",
    "    8 = Sedan (unknown door number)\n",
    "\n",
    "    9 = Other automobile\n",
    "\n",
    "    10 = Auto-based pickup\n",
    "\n",
    "    11 = Auto-based panel\n",
    "\n",
    "    12 = Large limousine\n",
    "\n",
    "    13 = 3-wheel automobile\n",
    "\n",
    "    14 = 3-door coupe\n",
    "\n",
    "    15 = Utility vehicles\n",
    "\n",
    "    16 = Van-based trucks\n",
    "\n",
    "    17 = Light trucks\n",
    "\n",
    "    18 = Buses\n",
    "\n",
    "    19 = Medium/heavy trucks\n",
    "\n",
    "    20 = Motorcycles\n",
    "\n",
    "    21 = Other vehicles\n",
    "\n",
    "16. DEFORMED: Records the amount of damage sustained by the vehicle.\n",
    "\n",
    "    0 = No damage\n",
    "\n",
    "    2 = Minor damage\n",
    "\n",
    "    4 = Moderate damage\n",
    "\n",
    "    6 = Severe damage\n",
    "\n",
    "    The coding values were different for GES during 2001-2008.\n",
    "\n",
    "17. SPEEDREL: Indicates whether speed was a contributing factor in the crash.\n",
    "\n",
    "    0 = No\n",
    "\n",
    "    1 = Yes\n",
    "\n",
    "    If Yes, it means at least one of the following:\n",
    "\n",
    "    Speed was greater than reasonable for conditions.\n",
    "\n",
    "    Driving too fast for conditions.\n",
    "\n",
    "    Speed above the speed limit.\n",
    "\n",
    "\n",
    "18. HARM_EV: Describes the first injury or damage-producing event of the crash.\n",
    "\n",
    "    1 = Collision with MVT (Motor Vehicle in Transport)\n",
    "\n",
    "    2 = Non-collision (includes rollovers, fires, explosions, gas inhalation, etc.)\n",
    "\n",
    "    3 = Collision with object not fixed\n",
    "\n",
    "    4 = Collision with fixed object\n",
    "\n",
    "\n",
    "19. HOUR: The hour of the accident happened.\n",
    "\n",
    "    Ranges from 0 to 23. (Accidents recorded at 12:00 a.m. are standardized to 0 hours.)\n",
    "\n",
    "20. WEATHER: The atmospheric condition at the time of the crash.\n",
    "\n",
    "    0 = Clear\n",
    "\n",
    "    1 = Atmospheric condition (e.g., rain, snow, cloudy, fog/smoke, sand, etc.)"
   ]
  },
  {
   "cell_type": "markdown",
   "id": "08191d89",
   "metadata": {},
   "source": [
    "# Analysis of Missingness"
   ]
  },
  {
   "cell_type": "markdown",
   "id": "4268f0fa",
   "metadata": {},
   "source": [
    "We start our analysis with a search through our dataset for missing values. The original dataset is large with 1,583,520 observations. The percent of values missing can be seen in the table below. The variables withe the highest missing values are the indicators for whether the individual involved in the crash was drugs and or was drinking at 37$ and 30% respectively. The variable deformed, which measures vehicle damage has a high missing percentage at 20%. The variable which indicates whether speed was related to the crash is missing at 19%. Several other variables are missing at rates of less than 5%. Since our dataset is large enough, we can afford to simply drop missing observations with high degrees of missingness when building our predictive model. After dropping missing values, the number of observations is 637,766."
   ]
  },
  {
   "cell_type": "code",
   "execution_count": 3,
   "id": "01c62f13",
   "metadata": {},
   "outputs": [
    {
     "data": {
      "text/html": [
       "<div>\n",
       "<style scoped>\n",
       "    .dataframe tbody tr th:only-of-type {\n",
       "        vertical-align: middle;\n",
       "    }\n",
       "\n",
       "    .dataframe tbody tr th {\n",
       "        vertical-align: top;\n",
       "    }\n",
       "\n",
       "    .dataframe thead th {\n",
       "        text-align: right;\n",
       "    }\n",
       "</style>\n",
       "<table border=\"1\" class=\"dataframe\">\n",
       "  <thead>\n",
       "    <tr style=\"text-align: right;\">\n",
       "      <th></th>\n",
       "      <th>Percent Missing</th>\n",
       "    </tr>\n",
       "  </thead>\n",
       "  <tbody>\n",
       "    <tr>\n",
       "      <th>DRUGS</th>\n",
       "      <td>36.816232</td>\n",
       "    </tr>\n",
       "    <tr>\n",
       "      <th>DRINKING</th>\n",
       "      <td>29.970044</td>\n",
       "    </tr>\n",
       "    <tr>\n",
       "      <th>DEFORMED</th>\n",
       "      <td>20.662191</td>\n",
       "    </tr>\n",
       "    <tr>\n",
       "      <th>SPEEDREL</th>\n",
       "      <td>19.420301</td>\n",
       "    </tr>\n",
       "    <tr>\n",
       "      <th>AGE</th>\n",
       "      <td>5.180976</td>\n",
       "    </tr>\n",
       "    <tr>\n",
       "      <th>NUMOCCS</th>\n",
       "      <td>4.582313</td>\n",
       "    </tr>\n",
       "    <tr>\n",
       "      <th>MOD_YEAR</th>\n",
       "      <td>4.023976</td>\n",
       "    </tr>\n",
       "    <tr>\n",
       "      <th>MAKE</th>\n",
       "      <td>3.585556</td>\n",
       "    </tr>\n",
       "    <tr>\n",
       "      <th>GENDER</th>\n",
       "      <td>2.963121</td>\n",
       "    </tr>\n",
       "    <tr>\n",
       "      <th>BODY_TYP</th>\n",
       "      <td>2.927629</td>\n",
       "    </tr>\n",
       "    <tr>\n",
       "      <th>HIT_RUN</th>\n",
       "      <td>2.524702</td>\n",
       "    </tr>\n",
       "    <tr>\n",
       "      <th>INJ_SEV</th>\n",
       "      <td>1.986163</td>\n",
       "    </tr>\n",
       "    <tr>\n",
       "      <th>WEATHER</th>\n",
       "      <td>1.479475</td>\n",
       "    </tr>\n",
       "    <tr>\n",
       "      <th>HOUR</th>\n",
       "      <td>0.289035</td>\n",
       "    </tr>\n",
       "    <tr>\n",
       "      <th>HARM_EV</th>\n",
       "      <td>0.031651</td>\n",
       "    </tr>\n",
       "  </tbody>\n",
       "</table>\n",
       "</div>"
      ],
      "text/plain": [
       "          Percent Missing\n",
       "DRUGS           36.816232\n",
       "DRINKING        29.970044\n",
       "DEFORMED        20.662191\n",
       "SPEEDREL        19.420301\n",
       "AGE              5.180976\n",
       "NUMOCCS          4.582313\n",
       "MOD_YEAR         4.023976\n",
       "MAKE             3.585556\n",
       "GENDER           2.963121\n",
       "BODY_TYP         2.927629\n",
       "HIT_RUN          2.524702\n",
       "INJ_SEV          1.986163\n",
       "WEATHER          1.479475\n",
       "HOUR             0.289035\n",
       "HARM_EV          0.031651"
      ]
     },
     "execution_count": 3,
     "metadata": {},
     "output_type": "execute_result"
    }
   ],
   "source": [
    "missing = pd.read_csv(\"missing.csv\", index_col = 0)\n",
    "missing"
   ]
  },
  {
   "cell_type": "markdown",
   "id": "08953c70",
   "metadata": {},
   "source": [
    "# Distributional Analysis"
   ]
  },
  {
   "cell_type": "markdown",
   "id": "944a924e",
   "metadata": {},
   "source": [
    "The purpose of our project is to analyze accident severity in the form of injury severity and severity of vehicle damage. Below are the histograms of these two distributions. We can see that in most accidents (61.5%), the person involved is uninjured. However, if an injury occurs, it is most likely fatal."
   ]
  },
  {
   "cell_type": "code",
   "execution_count": 47,
   "id": "934113d4",
   "metadata": {},
   "outputs": [
    {
     "data": {
      "image/png": "[encoded data removed]",
      "text/plain": [
       "<PIL.Image.Image image mode=RGBA size=600x400>"
      ]
     },
     "metadata": {},
     "output_type": "display_data"
    }
   ],
   "source": [
    "img = Image.open(\"assets/injury_severity_histogram.png\")\n",
    "display(img.resize((600, 400)))"
   ]
  },
  {
   "cell_type": "markdown",
   "id": "7a11189b",
   "metadata": {},
   "source": [
    "Where in most accidents the person involved is not injured, it is the opposite for vehicle damage. If a vehicle is involed in an accident, there is only a 2.4% chance that there is no deformity, and the most likely outcome is that the vehicle was severely deformed."
   ]
  },
  {
   "cell_type": "code",
   "execution_count": 50,
   "id": "90b62539",
   "metadata": {},
   "outputs": [
    {
     "data": {
      "image/png": "[encoded data removed]",
      "text/plain": [
       "<PIL.Image.Image image mode=RGBA size=600x400>"
      ]
     },
     "metadata": {},
     "output_type": "display_data"
    }
   ],
   "source": [
    "img = Image.open(\"assets/vehicle_deformity_histogram.png\")\n",
    "display(img.resize((600, 400)))"
   ]
  }
 ],
 "metadata": {
  "kernelspec": {
   "display_name": "math189",
   "language": "python",
   "name": "python3"
  },
  "language_info": {
   "codemirror_mode": {
    "name": "ipython",
    "version": 3
   },
   "file_extension": ".py",
   "mimetype": "text/x-python",
   "name": "python",
   "nbconvert_exporter": "python",
   "pygments_lexer": "ipython3",
   "version": "3.11.11"
  }
 },
 "nbformat": 4,
 "nbformat_minor": 5
}
