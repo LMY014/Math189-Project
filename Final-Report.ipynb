{
 "cells": [
  {
   "cell_type": "markdown",
   "id": "56083355",
   "metadata": {},
   "source": [
    "# Exploring Factors Contributing to Severity of US Motor Vehicle Accidents\n"
   ]
  },
  {
   "cell_type": "markdown",
   "id": "00406c30",
   "metadata": {},
   "source": [
    "### Group Members\n",
    "* Arshia Vadhani\n",
    "* Matthew Jacobsen\n",
    "* Laura Diaz Rodriguez\n",
    "* Meiyan Liu"
   ]
  },
  {
   "cell_type": "markdown",
   "id": "9b2fdd77",
   "metadata": {},
   "source": [
    "# Introduction:\n",
    "Car accidents remain a leading cause of accidental death worldwide, with various countries permitting individuals as young as 15 to operate vehicles. Numerous factors contribute to the occurrence of car accidents, including but not limited to weather conditions, visibility, vehicle speed, vehicle type, alcohol consumption, drug use, and driver distraction. With the legalization of recreational drugs, increasing alcohol consumption in social settings, and the growing mobile phone use among younger populations, the frequency of car accidents is expected to rise. The consequences of these incidents can vary significantly, ranging from minor injuries to fatalities. This project aims to investigate the key factors contributing to car accidents that can ultimately lead to the development of strategies targeted at keeping people safe."
   ]
  },
  {
   "cell_type": "markdown",
   "id": "c1cb747e",
   "metadata": {},
   "source": [
    "# Problem Statement\n",
    "Car accidents are a major global public safety concern, with numerous contributing factors. However, the specific factors that lead to fatal accidents are not as widely understood. This study aims to identify the key contributing factors via correlation to both general car accidents and fatal accidents in particular. By examining possible conducive variables, we seek to better understand the dynamics of these incidents by providing data-driven insights on the average weight of each factor on accident severity.\n"
   ]
  },
  {
   "cell_type": "markdown",
   "id": "66d36dc6",
   "metadata": {},
   "source": [
    "# Relevancy & Inspiration\n",
    "The relevance of this problem lies in the persistent and growing nature of car accidents, which continue to pose significant risks to public safety worldwide. With an increasing number of variables influencing these incidents, understanding the root causes of fatal accidents is crucial to mitigating their impact. With the increasing population of drivers, it is essential to prioritize the education of safe driving practices. The most effective way to achieve this is by identifying the key elements that contribute to these dangerous, often fatal, crashes. Research indicates that nearly 77% of the American population has been involved in a motor vehicle accident at some point in their lives. This statistic inspired us to pursue solutions aimed at reducing this number by promoting safer driving behaviors. By identifying the specific factors most strongly linked to car accidents, we aim to gain a clearer understanding of how to prevent them, ultimately contributing to improved road safety."
   ]
  },
  {
   "cell_type": "code",
   "execution_count": null,
   "id": "240a923f",
   "metadata": {},
   "outputs": [],
   "source": []
  }
 ],
 "metadata": {
  "kernelspec": {
   "display_name": "Python 3 (ipykernel)",
   "language": "python",
   "name": "python3"
  },
  "language_info": {
   "codemirror_mode": {
    "name": "ipython",
    "version": 3
   },
   "file_extension": ".py",
   "mimetype": "text/x-python",
   "name": "python",
   "nbconvert_exporter": "python",
   "pygments_lexer": "ipython3",
   "version": "3.9.2"
  }
 },
 "nbformat": 4,
 "nbformat_minor": 5
}
